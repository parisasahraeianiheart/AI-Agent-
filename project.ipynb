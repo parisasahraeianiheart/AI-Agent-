{
 "cells": [
  {
   "cell_type": "markdown",
   "id": "10470405",
   "metadata": {},
   "source": [
    "# Clone and enter repp\n",
    "'''\n",
    "git clone https://github.com/google-gemini/gemini-fullstack-langgraph-quickstart.git osint-ai-agent\n",
    "cd osint-ai-agent\n",
    "\n",
    "# Set up virtual environment\n",
    "python3 -m venv venv\n",
    "source venv/bin/activate\n",
    "\n",
    "# Install requirements\n",
    "pip install -r requirements.txt\n",
    "'''"
   ]
  },
  {
   "cell_type": "markdown",
   "id": "9de6d568",
   "metadata": {},
   "source": [
    "osint-ai-agent/\n",
    "├── agents/\n",
    "│   ├── query_agent.py\n",
    "│   ├── planning_agent.py\n",
    "│   ├── retrieval_agent.py\n",
    "│   ├── pivot_agent.py\n",
    "│   ├── synthesis_agent.py\n",
    "│   ├── judge_agent.py\n",
    "├── prompts/\n",
    "│   ├── query_prompt.txt\n",
    "│   ├── planning_prompt.txt\n",
    "│   ├── retrieval_prompt.txt\n",
    "│   ├── pivot_prompt.txt\n",
    "│   ├── synthesis_prompt.txt\n",
    "│   ├── judge_prompt.txt\n",
    "├── memory/\n",
    "│   ├── memory_handler.py\n",
    "├── app.py  ← main entry point\n",
    "├── requirements.txt\n",
    "└── .env"
   ]
  },
  {
   "cell_type": "markdown",
   "id": "de62eace",
   "metadata": {},
   "source": [
    "mkdir -p agents prompts memory\n",
    "touch agents/query_agent.py agents/planning_agent.py agents/retrieval_agent.py agents/pivot_agent.py agents/synthesis_agent.py agents/judge_agent.py\n",
    "touch prompts/query_prompt.txt prompts/planning_prompt.txt prompts/retrieval_prompt.txt prompts/pivot_prompt.txt prompts/synthesis_prompt.txt prompts/judge_prompt.txt\n",
    "touch memory/memory_handler.py app.py"
   ]
  },
  {
   "cell_type": "markdown",
   "id": "e19d7634",
   "metadata": {},
   "source": [
    "python agents/query_agent.py"
   ]
  },
  {
   "cell_type": "code",
   "execution_count": null,
   "id": "936a6cd5",
   "metadata": {},
   "outputs": [],
   "source": []
  }
 ],
 "metadata": {
  "kernelspec": {
   "display_name": "base",
   "language": "python",
   "name": "python3"
  },
  "language_info": {
   "codemirror_mode": {
    "name": "ipython",
    "version": 3
   },
   "file_extension": ".py",
   "mimetype": "text/x-python",
   "name": "python",
   "nbconvert_exporter": "python",
   "pygments_lexer": "ipython3",
   "version": "3.12.7"
  }
 },
 "nbformat": 4,
 "nbformat_minor": 5
}
